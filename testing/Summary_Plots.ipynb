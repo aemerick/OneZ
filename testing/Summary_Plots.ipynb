{
 "cells": [
  {
   "cell_type": "code",
   "execution_count": 85,
   "metadata": {
    "collapsed": false
   },
   "outputs": [],
   "source": [
    "%matplotlib inline\n",
    "import numpy as np\n",
    "import matplotlib.pyplot as plt\n",
    "from astropy import units as u\n",
    "from onezone.constants import CONST as const"
   ]
  },
  {
   "cell_type": "code",
   "execution_count": 86,
   "metadata": {
    "collapsed": true
   },
   "outputs": [],
   "source": [
    "def SNII_luminosity(x, dt):\n",
    "    return 1.0E51 * x / dt"
   ]
  },
  {
   "cell_type": "code",
   "execution_count": 94,
   "metadata": {
    "collapsed": true
   },
   "outputs": [],
   "source": [
    "def cumulative_to_rate(x):\n",
    "    rate = np.zeros(np.shape(x))\n",
    "    rate[0]  = 0.0\n",
    "    rate[1:] = x[1:] - x[0:-1]\n",
    "    \n",
    "    return rate"
   ]
  },
  {
   "cell_type": "code",
   "execution_count": 95,
   "metadata": {
    "collapsed": false
   },
   "outputs": [
    {
     "name": "stdout",
     "output_type": "stream",
     "text": [
      "('t', 'M_gas', 'M_DM', 'M_star', 'Z_gas', 'Z_star', 'N_star', 'N_SNIa', 'N_SNII', 'Mdot_ej', 'L_FUV', 'Q0', 'Q1', 'L_wind', 'L_Q0', 'L_Q1', 'm_tot', 'Ni', 'C', 'H', 'O', 'N', 'Fe', 'm_metal', 'He')\n"
     ]
    }
   ],
   "source": [
    "#\n",
    "# Load the summary output file\n",
    "#\n",
    "\n",
    "data = np.genfromtxt('summary_output.txt', names=True)\n",
    "\n",
    "# all information\n",
    "print data.dtype.names"
   ]
  },
  {
   "cell_type": "code",
   "execution_count": 96,
   "metadata": {
    "collapsed": false
   },
   "outputs": [
    {
     "name": "stdout",
     "output_type": "stream",
     "text": [
      "[  0.00000000e+00   0.00000000e+00   0.00000000e+00   0.00000000e+00\n",
      "   0.00000000e+00   0.00000000e+00   0.00000000e+00   0.00000000e+00\n",
      "   0.00000000e+00   0.00000000e+00   0.00000000e+00   2.00000000e+00\n",
      "   5.00000000e+00   9.00000000e+00   1.50000000e+01   2.40000000e+01\n",
      "   3.30000000e+01   4.60000000e+01   6.40000000e+01   9.00000000e+01\n",
      "   1.18000000e+02   1.51000000e+02   1.88000000e+02   2.25000000e+02\n",
      "   2.66000000e+02   3.14000000e+02   3.64000000e+02   4.18000000e+02\n",
      "   4.75000000e+02   5.31000000e+02   5.96000000e+02   6.59000000e+02\n",
      "   7.30000000e+02   8.03000000e+02   8.80000000e+02   9.62000000e+02\n",
      "   1.04600000e+03   1.13300000e+03   1.22100000e+03   1.32300000e+03\n",
      "   1.42000000e+03   1.52600000e+03   1.63200000e+03   1.74000000e+03\n",
      "   1.84800000e+03   1.95900000e+03   2.07900000e+03   2.19900000e+03\n",
      "   2.33200000e+03   2.46500000e+03   2.59500000e+03   2.73300000e+03\n",
      "   2.87200000e+03   3.02600000e+03   3.17400000e+03   3.33400000e+03\n",
      "   3.49700000e+03   3.66500000e+03   3.82300000e+03   3.98700000e+03\n",
      "   4.15900000e+03   4.33000000e+03   4.51500000e+03   4.69000000e+03\n",
      "   4.86900000e+03]\n",
      "[   0.    0.    0.    0.    0.    0.    0.    0.    0.    0.    0.    2.\n",
      "    3.    4.    6.    9.    9.   13.   18.   26.   28.   33.   37.   37.\n",
      "   41.   48.   50.   54.   57.   56.   65.   63.   71.   73.   77.   82.\n",
      "   84.   87.   88.  102.   97.  106.  106.  108.  108.  111.  120.  120.\n",
      "  133.  133.  130.  138.  139.  154.  148.  160.  163.  168.  158.  164.\n",
      "  172.  171.  185.  175.  179.]\n"
     ]
    }
   ],
   "source": [
    "nsnII = data['N_SNIa']\n",
    "print nsnII\n",
    "print cumulative_to_rate(nsnII)"
   ]
  },
  {
   "cell_type": "code",
   "execution_count": 97,
   "metadata": {
    "collapsed": false
   },
   "outputs": [
    {
     "name": "stdout",
     "output_type": "stream",
     "text": [
      "Final time = 32.00000 Myr\n",
      "M_gas = 1.40982E+06\n",
      "M_star = 5.32217E+05\n",
      "N_star =   308558\n",
      "N_SNII    0\n",
      "N_SNIa 4869\n"
     ]
    }
   ],
   "source": [
    "print \"Final time = %.5f Myr\"%(data['t'][-1])\n",
    "print \"M_gas = %5.5E\"%(data['M_gas'][-1])\n",
    "print \"M_star = %5.5E\"%(data['M_star'][-1])\n",
    "print \"N_star = %8i\"%(data['N_star'][-1])\n",
    "\n",
    "print 'N_SNII %4i'%(data['N_SNII'][-1])\n",
    "print 'N_SNIa %4i'%(data['N_SNIa'][-1])\n"
   ]
  },
  {
   "cell_type": "code",
   "execution_count": 98,
   "metadata": {
    "collapsed": false,
    "scrolled": true
   },
   "outputs": [
    {
     "data": {
      "text/plain": [
       "<matplotlib.text.Text at 0x7f270df78ad0>"
      ]
     },
     "execution_count": 98,
     "metadata": {},
     "output_type": "execute_result"
    },
    {
     "data": {
      "image/png": "[encoded data removed]",
      "text/plain": [
       "<matplotlib.figure.Figure at 0x7f270e4ce690>"
      ]
     },
     "metadata": {},
     "output_type": "display_data"
    }
   ],
   "source": [
    "#\n",
    "# Lets plot cumulative SF\n",
    "#\n",
    "plt.plot(data['t'], data['M_star'], lw = 3, color ='black')\n",
    "plt.xlabel('time (Myr)')\n",
    "plt.ylabel('Total Mass of Stars (Msun)')\n",
    "\n",
    "# constant SFR... not surprising"
   ]
  },
  {
   "cell_type": "code",
   "execution_count": 99,
   "metadata": {
    "collapsed": false
   },
   "outputs": [],
   "source": [
    "nsnII = data['N_SNIa']\n",
    "dNsnII_dt = cumulative_to_rate(nsnII)\n",
    "\n",
    "L_SNII = SNII_luminosity(dNsnII_dt, 0.5 * 1.0E6 * const.yr_to_s)"
   ]
  },
  {
   "cell_type": "code",
   "execution_count": 100,
   "metadata": {
    "collapsed": false,
    "scrolled": false
   },
   "outputs": [
    {
     "data": {
      "text/plain": [
       "<matplotlib.legend.Legend at 0x7f270de7d650>"
      ]
     },
     "execution_count": 100,
     "metadata": {},
     "output_type": "execute_result"
    },
    {
     "data": {
      "image/png": "[encoded data removed]",
      "text/plain": [
       "<matplotlib.figure.Figure at 0x7f270e0616d0>"
      ]
     },
     "metadata": {},
     "output_type": "display_data"
    }
   ],
   "source": [
    "#\n",
    "# Lets plot the luminosities\n",
    "#\n",
    "\n",
    "plt.plot(data['t'], data['L_Q0'], label = 'L_H', lw = 3, color = 'red')\n",
    "plt.plot(data['t'], data['L_Q1'], label = 'L_He', lw = 3, color = 'red', ls = ':')\n",
    "plt.plot(data['t'], data['L_FUV'], label = 'L_FUV', lw = 3, color = 'red', ls = '-.')\n",
    "\n",
    "plt.plot(data['t'], data['L_wind'], label = 'L_wind', lw = 3, color = 'black', ls = '-')\n",
    "\n",
    "plt.plot(data['t'], L_SNII, label='L_SNII'\n",
    "\n",
    "plt.xlabel('Time (Myr)')\n",
    "plt.ylabel('Luminosity (erg/s)')\n",
    "\n",
    "plt.semilogy()\n",
    "plt.legend(loc='best')"
   ]
  },
  {
   "cell_type": "code",
   "execution_count": 62,
   "metadata": {
    "collapsed": false
   },
   "outputs": [
    {
     "data": {
      "text/latex": [
       "$4.8481368 \\times 10^{-6} \\; \\mathrm{pc}$"
      ],
      "text/plain": [
       "<Quantity 4.848136811133344e-06 pc>"
      ]
     },
     "execution_count": 62,
     "metadata": {},
     "output_type": "execute_result"
    }
   ],
   "source": [
    "(1.0 * u.AU).to(u.pc)"
   ]
  },
  {
   "cell_type": "code",
   "execution_count": null,
   "metadata": {
    "collapsed": true
   },
   "outputs": [],
   "source": []
  },
  {
   "cell_type": "code",
   "execution_count": null,
   "metadata": {
    "collapsed": true
   },
   "outputs": [],
   "source": []
  }
 ],
 "metadata": {
  "kernelspec": {
   "display_name": "Python 2",
   "language": "python",
   "name": "python2"
  },
  "language_info": {
   "codemirror_mode": {
    "name": "ipython",
    "version": 2
   },
   "file_extension": ".py",
   "mimetype": "text/x-python",
   "name": "python",
   "nbconvert_exporter": "python",
   "pygments_lexer": "ipython2",
   "version": "2.7.11"
  }
 },
 "nbformat": 4,
 "nbformat_minor": 0
}
